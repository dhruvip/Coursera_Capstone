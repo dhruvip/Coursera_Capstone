{
 "cells": [
  {
   "cell_type": "code",
   "execution_count": 45,
   "metadata": {},
   "outputs": [],
   "source": [
    "#https://www.worldatlas.com/articles/the-most-visited-states-in-the-us.html\n",
    "#https://en.wikipedia.org/wiki/List_of_U.S._states_and_territories_by_area\n",
    "#https://en.wikipedia.org/wiki/List_of_states_and_territories_of_the_United_States_by_population\n",
    "# https://stats.stackexchange.com/questions/174383/how-to-predict-outcome-with-only-positive-cases-as-training\n",
    "# https://www.google.com/search?q=what+happens+when+a+classification+model+is+trained+only+on+positive+cases+site:stats.stackexchange.com&client=ubuntu&channel=fs&sa=X&ved=2ahUKEwiCn82O2qXiAhUkSo8KHXRBAfcQrQIoBDAKegQIAxAM&biw=1311&bih=673\n",
    "import pandas as pd\n",
    "import numpy as np\n",
    "import requests \n",
    "from bs4 import BeautifulSoup \n",
    "import matplotlib as mpl\n",
    "import matplotlib.pyplot as plt\n",
    "from pandas.io.json import json_normalize\n",
    "# from FourSquareAPI import FourSquareAPI\n",
    "import folium \n",
    "from IPython.display import Image \n",
    "from IPython.core.display import HTML \n",
    "import matplotlib.cm as cm\n",
    "import matplotlib.colors as colors\n",
    "\n",
    "%matplotlib inline \n",
    "mpl.style.use('ggplot')\n",
    "with_all_data = pd.read_csv('fsq_calls.csv', index_col=False)\n",
    "required_df = with_all_data[['province','cleaned_name','latitude','longitude', \\\n",
    "                            'is_tourist_province','rest_per_km2_province','rest_per_1000people_province', 'postalCode',\\\n",
    "                           'latitude','longitude',\\\n",
    "                            'schools','university', 'hospital', 'park', 'offices', 'mall', 'all_lat_long']]\n",
    "# required_df = required_df[['is_tourist_province','rest_per_km2_province','rest_per_1000people_province','schools','university','hospital','park','offices','mall']]"
   ]
  },
  {
   "cell_type": "code",
   "execution_count": 35,
   "metadata": {},
   "outputs": [],
   "source": [
    "req_grp_by = required_df.groupby('province')"
   ]
  },
  {
   "cell_type": "code",
   "execution_count": 36,
   "metadata": {},
   "outputs": [],
   "source": [
    "required_df = required_df.groupby('cleaned_name')\n"
   ]
  },
  {
   "cell_type": "code",
   "execution_count": null,
   "metadata": {},
   "outputs": [],
   "source": [
    "arby_grp = required_df.get_group('pizzahut')\n",
    "arby_grp = arby_grp[['cleaned_name','is_tourist_province','rest_per_km2_province','rest_per_1000people_province','schools','university','hospital','park','offices','mall']]\n",
    "arby_grp.head(100)"
   ]
  },
  {
   "cell_type": "code",
   "execution_count": 46,
   "metadata": {
    "scrolled": true
   },
   "outputs": [
    {
     "name": "stderr",
     "output_type": "stream",
     "text": [
      "/home/dhruvi/anaconda2/envs/ml/lib/python3.5/site-packages/ipykernel_launcher.py:1: SettingWithCopyWarning: \n",
      "A value is trying to be set on a copy of a slice from a DataFrame.\n",
      "Try using .loc[row_indexer,col_indexer] = value instead\n",
      "\n",
      "See the caveats in the documentation: http://pandas.pydata.org/pandas-docs/stable/indexing.html#indexing-view-versus-copy\n",
      "  \"\"\"Entry point for launching an IPython kernel.\n"
     ]
    }
   ],
   "source": [
    "required_df['Successfull'] = 1"
   ]
  },
  {
   "cell_type": "code",
   "execution_count": null,
   "metadata": {},
   "outputs": [],
   "source": []
  },
  {
   "cell_type": "code",
   "execution_count": 50,
   "metadata": {},
   "outputs": [],
   "source": [
    "import scipy.optimize as opt\n",
    "from sklearn import preprocessing\n",
    "from sklearn.model_selection import train_test_split\n",
    "from sklearn.cluster import KMeans "
   ]
  },
  {
   "cell_type": "code",
   "execution_count": null,
   "metadata": {},
   "outputs": [],
   "source": [
    "required_df.head()\n",
    "required_df['postalCode'].astype('object', copy=False)"
   ]
  },
  {
   "cell_type": "code",
   "execution_count": 47,
   "metadata": {},
   "outputs": [],
   "source": [
    "required_df.head(5)\n",
    "feature_df = required_df[['is_tourist_province','rest_per_km2_province','rest_per_1000people_province','schools','university','hospital','park','offices','mall']]"
   ]
  },
  {
   "cell_type": "code",
   "execution_count": 52,
   "metadata": {},
   "outputs": [],
   "source": [
    "X = np.asarray(feature_df)\n",
    "from sklearn.preprocessing import StandardScaler\n",
    "# X = df.values[:,1:]\n",
    "# X = np.nan_to_num(X)     \n",
    "Clus_dataSet = StandardScaler().fit_transform(X)"
   ]
  },
  {
   "cell_type": "code",
   "execution_count": 54,
   "metadata": {},
   "outputs": [
    {
     "name": "stderr",
     "output_type": "stream",
     "text": [
      "/home/dhruvi/anaconda2/envs/ml/lib/python3.5/site-packages/ipykernel_launcher.py:5: SettingWithCopyWarning: \n",
      "A value is trying to be set on a copy of a slice from a DataFrame.\n",
      "Try using .loc[row_indexer,col_indexer] = value instead\n",
      "\n",
      "See the caveats in the documentation: http://pandas.pydata.org/pandas-docs/stable/indexing.html#indexing-view-versus-copy\n",
      "  \"\"\"\n",
      "/home/dhruvi/anaconda2/envs/ml/lib/python3.5/site-packages/ipykernel_launcher.py:6: SettingWithCopyWarning: \n",
      "A value is trying to be set on a copy of a slice from a DataFrame.\n",
      "Try using .loc[row_indexer,col_indexer] = value instead\n",
      "\n",
      "See the caveats in the documentation: http://pandas.pydata.org/pandas-docs/stable/indexing.html#indexing-view-versus-copy\n",
      "  \n"
     ]
    }
   ],
   "source": [
    "k_means = KMeans(init = \"k-means++\", n_clusters = 4, n_init = 12)\n",
    "k_means.fit(X)\n",
    "k_means_labels = k_means.labels_\n",
    "k_means_cluster_centers = k_means.cluster_centers_\n",
    "feature_df['cluster_labels'] = k_means_labels\n",
    "required_df['cluster_labels'] = k_means_labels"
   ]
  },
  {
   "cell_type": "code",
   "execution_count": 55,
   "metadata": {},
   "outputs": [
    {
     "data": {
      "text/html": [
       "<div>\n",
       "<style scoped>\n",
       "    .dataframe tbody tr th:only-of-type {\n",
       "        vertical-align: middle;\n",
       "    }\n",
       "\n",
       "    .dataframe tbody tr th {\n",
       "        vertical-align: top;\n",
       "    }\n",
       "\n",
       "    .dataframe thead th {\n",
       "        text-align: right;\n",
       "    }\n",
       "</style>\n",
       "<table border=\"1\" class=\"dataframe\">\n",
       "  <thead>\n",
       "    <tr style=\"text-align: right;\">\n",
       "      <th></th>\n",
       "      <th>is_tourist_province</th>\n",
       "      <th>rest_per_km2_province</th>\n",
       "      <th>rest_per_1000people_province</th>\n",
       "      <th>schools</th>\n",
       "      <th>university</th>\n",
       "      <th>hospital</th>\n",
       "      <th>park</th>\n",
       "      <th>offices</th>\n",
       "      <th>mall</th>\n",
       "    </tr>\n",
       "    <tr>\n",
       "      <th>cluster_labels</th>\n",
       "      <th></th>\n",
       "      <th></th>\n",
       "      <th></th>\n",
       "      <th></th>\n",
       "      <th></th>\n",
       "      <th></th>\n",
       "      <th></th>\n",
       "      <th></th>\n",
       "      <th></th>\n",
       "    </tr>\n",
       "  </thead>\n",
       "  <tbody>\n",
       "    <tr>\n",
       "      <th>0</th>\n",
       "      <td>0.692308</td>\n",
       "      <td>0.004014</td>\n",
       "      <td>0.038815</td>\n",
       "      <td>12.979487</td>\n",
       "      <td>10.415385</td>\n",
       "      <td>5.594872</td>\n",
       "      <td>26.379487</td>\n",
       "      <td>25.805128</td>\n",
       "      <td>3.312821</td>\n",
       "    </tr>\n",
       "    <tr>\n",
       "      <th>1</th>\n",
       "      <td>0.541541</td>\n",
       "      <td>0.004376</td>\n",
       "      <td>0.049428</td>\n",
       "      <td>0.776732</td>\n",
       "      <td>0.165286</td>\n",
       "      <td>0.432480</td>\n",
       "      <td>1.142821</td>\n",
       "      <td>1.516064</td>\n",
       "      <td>0.319905</td>\n",
       "    </tr>\n",
       "    <tr>\n",
       "      <th>2</th>\n",
       "      <td>0.669850</td>\n",
       "      <td>0.004272</td>\n",
       "      <td>0.043632</td>\n",
       "      <td>2.536153</td>\n",
       "      <td>2.180082</td>\n",
       "      <td>1.634379</td>\n",
       "      <td>8.147340</td>\n",
       "      <td>8.721692</td>\n",
       "      <td>0.566166</td>\n",
       "    </tr>\n",
       "    <tr>\n",
       "      <th>3</th>\n",
       "      <td>0.623116</td>\n",
       "      <td>0.004397</td>\n",
       "      <td>0.046375</td>\n",
       "      <td>1.050251</td>\n",
       "      <td>0.653266</td>\n",
       "      <td>1.045226</td>\n",
       "      <td>5.477387</td>\n",
       "      <td>5.391960</td>\n",
       "      <td>20.507538</td>\n",
       "    </tr>\n",
       "  </tbody>\n",
       "</table>\n",
       "</div>"
      ],
      "text/plain": [
       "                is_tourist_province  rest_per_km2_province  \\\n",
       "cluster_labels                                               \n",
       "0                          0.692308               0.004014   \n",
       "1                          0.541541               0.004376   \n",
       "2                          0.669850               0.004272   \n",
       "3                          0.623116               0.004397   \n",
       "\n",
       "                rest_per_1000people_province    schools  university  hospital  \\\n",
       "cluster_labels                                                                  \n",
       "0                                   0.038815  12.979487   10.415385  5.594872   \n",
       "1                                   0.049428   0.776732    0.165286  0.432480   \n",
       "2                                   0.043632   2.536153    2.180082  1.634379   \n",
       "3                                   0.046375   1.050251    0.653266  1.045226   \n",
       "\n",
       "                     park    offices       mall  \n",
       "cluster_labels                                   \n",
       "0               26.379487  25.805128   3.312821  \n",
       "1                1.142821   1.516064   0.319905  \n",
       "2                8.147340   8.721692   0.566166  \n",
       "3                5.477387   5.391960  20.507538  "
      ]
     },
     "execution_count": 55,
     "metadata": {},
     "output_type": "execute_result"
    }
   ],
   "source": [
    "feature_df.groupby('cluster_labels').mean()"
   ]
  },
  {
   "cell_type": "code",
   "execution_count": null,
   "metadata": {},
   "outputs": [],
   "source": []
  }
 ],
 "metadata": {
  "kernelspec": {
   "display_name": "ml",
   "language": "python",
   "name": "ml"
  },
  "language_info": {
   "codemirror_mode": {
    "name": "ipython",
    "version": 3
   },
   "file_extension": ".py",
   "mimetype": "text/x-python",
   "name": "python",
   "nbconvert_exporter": "python",
   "pygments_lexer": "ipython3",
   "version": "3.5.6"
  }
 },
 "nbformat": 4,
 "nbformat_minor": 2
}
